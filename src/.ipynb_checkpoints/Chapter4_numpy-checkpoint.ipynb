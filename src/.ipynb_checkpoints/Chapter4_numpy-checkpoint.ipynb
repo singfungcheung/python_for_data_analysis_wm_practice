{
 "cells": [
  {
   "cell_type": "markdown",
   "id": "bbdcdb7e-7d36-4574-9040-b2d2cd4496d6",
   "metadata": {},
   "source": [
    "# Chapter 4: NumPy Basics: Arrays and Vectorized Computation"
   ]
  },
  {
   "cell_type": "markdown",
   "id": "680e052e-7562-4c2f-84e9-d101728c6113",
   "metadata": {},
   "source": [
    "***NumPy***: Numerical Python. It is blazing fast compared to Python's built-in data structures!"
   ]
  },
  {
   "cell_type": "code",
   "execution_count": 1,
   "id": "49298660-922c-40a2-ad90-ae73ec59b63e",
   "metadata": {},
   "outputs": [],
   "source": [
    "# For example.\n",
    "import numpy as np\n",
    "my_arr = np.arange(1_000_000)\n",
    "my_list = list(range(1_000_000))"
   ]
  },
  {
   "cell_type": "markdown",
   "id": "e3e85dff-831a-418c-9703-41fda654beee",
   "metadata": {},
   "source": [
    "Let's multiple each sequence by 2."
   ]
  },
  {
   "cell_type": "code",
   "execution_count": 2,
   "id": "9c0751da-8e35-4499-b0f3-9c16f856b010",
   "metadata": {},
   "outputs": [
    {
     "name": "stdout",
     "output_type": "stream",
     "text": [
      "2.45 ms ± 294 µs per loop (mean ± std. dev. of 7 runs, 1,000 loops each)\n"
     ]
    }
   ],
   "source": [
    "%timeit my_arr2 = my_arr * 2"
   ]
  },
  {
   "cell_type": "code",
   "execution_count": 3,
   "id": "4b85ca5e-7de8-4493-ad07-78797e2762c3",
   "metadata": {},
   "outputs": [
    {
     "name": "stdout",
     "output_type": "stream",
     "text": [
      "215 ms ± 26 ms per loop (mean ± std. dev. of 7 runs, 10 loops each)\n"
     ]
    }
   ],
   "source": [
    "%timeit my_list2 = [x * 2 for x in my_list]"
   ]
  },
  {
   "cell_type": "markdown",
   "id": "4ce27d30-11cc-4222-92d7-e3a9622c2506",
   "metadata": {},
   "source": [
    "***Vectorization*** is basically doing batch operations but no for loop, which is very slow."
   ]
  },
  {
   "cell_type": "code",
   "execution_count": 5,
   "id": "8344cf71-5fdf-45b7-b9de-f9b346df3c6d",
   "metadata": {},
   "outputs": [
    {
     "data": {
      "text/plain": [
       "array([[ 1.,  4.,  9.],\n",
       "       [16., 25., 36.]])"
      ]
     },
     "execution_count": 5,
     "metadata": {},
     "output_type": "execute_result"
    }
   ],
   "source": [
    "arr = np.array([[1., 2., 3.], [4., 5., 6.]])\n",
    "# Element-wise operations\n",
    "arr * arr"
   ]
  },
  {
   "cell_type": "code",
   "execution_count": null,
   "id": "6904ef4a-4ec4-4ea7-b14b-164cbbb248c5",
   "metadata": {},
   "outputs": [],
   "source": []
  }
 ],
 "metadata": {
  "kernelspec": {
   "display_name": "Python 3 (ipykernel)",
   "language": "python",
   "name": "python3"
  },
  "language_info": {
   "codemirror_mode": {
    "name": "ipython",
    "version": 3
   },
   "file_extension": ".py",
   "mimetype": "text/x-python",
   "name": "python",
   "nbconvert_exporter": "python",
   "pygments_lexer": "ipython3",
   "version": "3.12.1"
  }
 },
 "nbformat": 4,
 "nbformat_minor": 5
}
