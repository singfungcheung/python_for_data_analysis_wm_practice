{
 "cells": [
  {
   "cell_type": "markdown",
   "id": "4eaf7b32-0e78-4e04-897b-801149002ebb",
   "metadata": {},
   "source": [
    "# Chapter 5: Getting Started with pandas"
   ]
  },
  {
   "cell_type": "code",
   "execution_count": 1,
   "id": "c5792799-4342-44d6-a968-e491c1360c38",
   "metadata": {},
   "outputs": [],
   "source": [
    "import numpy as np\n",
    "import pandas as pd\n",
    "from pandas import Series, DataFrame"
   ]
  },
  {
   "cell_type": "markdown",
   "id": "097b07b2-392a-4346-8eda-cbc88660b559",
   "metadata": {},
   "source": [
    "### A Series can be thought of as a fixed-length, ordered dictionary, as it is a mapping of index values to data values."
   ]
  },
  {
   "cell_type": "code",
   "execution_count": 3,
   "id": "8849fc9f-9e98-43a2-948d-6f28c263d47e",
   "metadata": {},
   "outputs": [
    {
     "data": {
      "text/plain": [
       "Ohio      35000\n",
       "Texas     71000\n",
       "Oregon    16000\n",
       "Utah       5000\n",
       "dtype: int64"
      ]
     },
     "execution_count": 3,
     "metadata": {},
     "output_type": "execute_result"
    }
   ],
   "source": [
    "sdata = {\"Ohio\": 35000, \"Texas\": 71000, \"Oregon\": 16000, \"Utah\": 5000}\n",
    "obj3 = pd.Series(sdata)\n",
    "obj3"
   ]
  },
  {
   "cell_type": "markdown",
   "id": "bce0452b-5a68-41ee-91e0-67cc79dc09f2",
   "metadata": {},
   "source": [
    "### Consequently, a Series can be converted back to a dictionary with its to_dict method."
   ]
  },
  {
   "cell_type": "code",
   "execution_count": 4,
   "id": "2428624b-59c7-4356-a1b1-00853cecfabf",
   "metadata": {},
   "outputs": [
    {
     "data": {
      "text/plain": [
       "{'Ohio': 35000, 'Texas': 71000, 'Oregon': 16000, 'Utah': 5000}"
      ]
     },
     "execution_count": 4,
     "metadata": {},
     "output_type": "execute_result"
    }
   ],
   "source": [
    "obj3.to_dict()"
   ]
  },
  {
   "cell_type": "markdown",
   "id": "81c14a23-09c3-4c7d-9380-4c1ea0310540",
   "metadata": {},
   "source": [
    "### Naming a series and index."
   ]
  },
  {
   "cell_type": "code",
   "execution_count": 5,
   "id": "ec69ce27-4fc5-4641-9ade-2c9f56a9b55c",
   "metadata": {},
   "outputs": [],
   "source": [
    "obj3.name = \"population\"\n",
    "obj3.index.name = \"state\""
   ]
  },
  {
   "cell_type": "code",
   "execution_count": 6,
   "id": "ae000ad5-e0ef-4882-9786-3e6a0ef4bf85",
   "metadata": {},
   "outputs": [
    {
     "data": {
      "text/plain": [
       "state\n",
       "Ohio      35000\n",
       "Texas     71000\n",
       "Oregon    16000\n",
       "Utah       5000\n",
       "Name: population, dtype: int64"
      ]
     },
     "execution_count": 6,
     "metadata": {},
     "output_type": "execute_result"
    }
   ],
   "source": [
    "obj3"
   ]
  },
  {
   "cell_type": "code",
   "execution_count": null,
   "id": "2ad24273-fe32-4236-91ca-29def443dcc3",
   "metadata": {},
   "outputs": [],
   "source": []
  }
 ],
 "metadata": {
  "kernelspec": {
   "display_name": "Python 3 (ipykernel)",
   "language": "python",
   "name": "python3"
  },
  "language_info": {
   "codemirror_mode": {
    "name": "ipython",
    "version": 3
   },
   "file_extension": ".py",
   "mimetype": "text/x-python",
   "name": "python",
   "nbconvert_exporter": "python",
   "pygments_lexer": "ipython3",
   "version": "3.12.1"
  }
 },
 "nbformat": 4,
 "nbformat_minor": 5
}
